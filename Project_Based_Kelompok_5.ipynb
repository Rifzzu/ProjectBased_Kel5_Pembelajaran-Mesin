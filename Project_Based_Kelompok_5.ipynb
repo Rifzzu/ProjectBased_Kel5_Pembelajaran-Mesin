{
  "nbformat": 4,
  "nbformat_minor": 0,
  "metadata": {
    "colab": {
      "provenance": []
    },
    "kernelspec": {
      "name": "python3",
      "display_name": "Python 3"
    },
    "language_info": {
      "name": "python"
    }
  },
  "cells": [
    {
      "cell_type": "markdown",
      "source": [
        "#Dataset desc"
      ],
      "metadata": {
        "id": "7N0iRZHwK2zO"
      }
    },
    {
      "cell_type": "markdown",
      "source": [
        "INFO: <br>\n",
        "Terkait tugas besar, diperbolehkan menggunakan library misal random forest (utk bagging), AdaBoost (utk boosting).\n",
        "Namun bagi yang sudah terlanjur mengerjakan tanpa library, nanti akan mendapat bonus nilai."
      ],
      "metadata": {
        "id": "prLnbkxuK5j2"
      }
    },
    {
      "cell_type": "markdown",
      "source": [
        "#Import dataset"
      ],
      "metadata": {
        "id": "M9IaNhblKwiX"
      }
    },
    {
      "cell_type": "code",
      "source": [
        "# Import Lib.\n",
        "\n",
        "import numpy as np\n",
        "import pandas as pd\n",
        "import seaborn as sns\n",
        "import random as rndm\n",
        "import matplotlib.pyplot as plt\n",
        "import math\n",
        "import warnings\n",
        "warnings.filterwarnings('ignore')\n",
        "from sklearn.cluster import KMeans\n",
        "from sklearn.decomposition import PCA\n",
        "from sklearn.preprocessing import MinMaxScaler, StandardScaler, RobustScaler\n",
        "from IPython.display import clear_output\n",
        "from sklearn.impute import KNNImputer\n",
        "from sklearn.ensemble import AdaBoostRegressor, AdaBoostClassifier\n",
        "from sklearn.ensemble import GradientBoostingRegressor\n",
        "from sklearn.model_selection import train_test_split\n",
        "from sklearn import metrics\n",
        "from sklearn.tree import DecisionTreeClassifier"
      ],
      "metadata": {
        "id": "5fgk1WV-wekq"
      },
      "execution_count": null,
      "outputs": []
    },
    {
      "cell_type": "code",
      "execution_count": null,
      "metadata": {
        "colab": {
          "base_uri": "https://localhost:8080/",
          "height": 528
        },
        "id": "72biJ8UTwOTb",
        "outputId": "eab30d93-5d5d-4d4a-d7c7-aa4f3a0428c5"
      },
      "outputs": [
        {
          "output_type": "stream",
          "name": "stdout",
          "text": [
            "/usr/local/lib/python3.8/dist-packages/gdown/cli.py:127: FutureWarning: Option `--id` was deprecated in version 4.3.1 and will be removed in 5.0. You don't need to pass it anymore to use a file ID.\n",
            "  warnings.warn(\n",
            "Downloading...\n",
            "From: https://drive.google.com/uc?id=1JYTII7CJrNJlxzeLQkmEhyw0ud5GCIdi\n",
            "To: /content/autos_mpg.csv\n",
            "100% 18.1k/18.1k [00:00<00:00, 19.5MB/s]\n"
          ]
        },
        {
          "output_type": "execute_result",
          "data": {
            "text/plain": [
              "      mpg  cylinders  displacement horsepower  weight  acceleration  \\\n",
              "0    18.0          8         307.0        130    3504          12.0   \n",
              "1    15.0          8         350.0        165    3693          11.5   \n",
              "2    18.0          8         318.0        150    3436          11.0   \n",
              "3    16.0          8         304.0        150    3433          12.0   \n",
              "4    17.0          8         302.0        140    3449          10.5   \n",
              "..    ...        ...           ...        ...     ...           ...   \n",
              "393  27.0          4         140.0         86    2790          15.6   \n",
              "394  44.0          4          97.0         52    2130          24.6   \n",
              "395  32.0          4         135.0         84    2295          11.6   \n",
              "396  28.0          4         120.0         79    2625          18.6   \n",
              "397  31.0          4         119.0         82    2720          19.4   \n",
              "\n",
              "     model_year  origin                   car_name  \n",
              "0            70       1  chevrolet chevelle malibu  \n",
              "1            70       1          buick skylark 320  \n",
              "2            70       1         plymouth satellite  \n",
              "3            70       1              amc rebel sst  \n",
              "4            70       1                ford torino  \n",
              "..          ...     ...                        ...  \n",
              "393          82       1            ford mustang gl  \n",
              "394          82       2                  vw pickup  \n",
              "395          82       1              dodge rampage  \n",
              "396          82       1                ford ranger  \n",
              "397          82       1                 chevy s-10  \n",
              "\n",
              "[398 rows x 9 columns]"
            ],
            "text/html": [
              "\n",
              "  <div id=\"df-d06abfe7-8259-4968-86bc-02bc4611aa47\">\n",
              "    <div class=\"colab-df-container\">\n",
              "      <div>\n",
              "<style scoped>\n",
              "    .dataframe tbody tr th:only-of-type {\n",
              "        vertical-align: middle;\n",
              "    }\n",
              "\n",
              "    .dataframe tbody tr th {\n",
              "        vertical-align: top;\n",
              "    }\n",
              "\n",
              "    .dataframe thead th {\n",
              "        text-align: right;\n",
              "    }\n",
              "</style>\n",
              "<table border=\"1\" class=\"dataframe\">\n",
              "  <thead>\n",
              "    <tr style=\"text-align: right;\">\n",
              "      <th></th>\n",
              "      <th>mpg</th>\n",
              "      <th>cylinders</th>\n",
              "      <th>displacement</th>\n",
              "      <th>horsepower</th>\n",
              "      <th>weight</th>\n",
              "      <th>acceleration</th>\n",
              "      <th>model_year</th>\n",
              "      <th>origin</th>\n",
              "      <th>car_name</th>\n",
              "    </tr>\n",
              "  </thead>\n",
              "  <tbody>\n",
              "    <tr>\n",
              "      <th>0</th>\n",
              "      <td>18.0</td>\n",
              "      <td>8</td>\n",
              "      <td>307.0</td>\n",
              "      <td>130</td>\n",
              "      <td>3504</td>\n",
              "      <td>12.0</td>\n",
              "      <td>70</td>\n",
              "      <td>1</td>\n",
              "      <td>chevrolet chevelle malibu</td>\n",
              "    </tr>\n",
              "    <tr>\n",
              "      <th>1</th>\n",
              "      <td>15.0</td>\n",
              "      <td>8</td>\n",
              "      <td>350.0</td>\n",
              "      <td>165</td>\n",
              "      <td>3693</td>\n",
              "      <td>11.5</td>\n",
              "      <td>70</td>\n",
              "      <td>1</td>\n",
              "      <td>buick skylark 320</td>\n",
              "    </tr>\n",
              "    <tr>\n",
              "      <th>2</th>\n",
              "      <td>18.0</td>\n",
              "      <td>8</td>\n",
              "      <td>318.0</td>\n",
              "      <td>150</td>\n",
              "      <td>3436</td>\n",
              "      <td>11.0</td>\n",
              "      <td>70</td>\n",
              "      <td>1</td>\n",
              "      <td>plymouth satellite</td>\n",
              "    </tr>\n",
              "    <tr>\n",
              "      <th>3</th>\n",
              "      <td>16.0</td>\n",
              "      <td>8</td>\n",
              "      <td>304.0</td>\n",
              "      <td>150</td>\n",
              "      <td>3433</td>\n",
              "      <td>12.0</td>\n",
              "      <td>70</td>\n",
              "      <td>1</td>\n",
              "      <td>amc rebel sst</td>\n",
              "    </tr>\n",
              "    <tr>\n",
              "      <th>4</th>\n",
              "      <td>17.0</td>\n",
              "      <td>8</td>\n",
              "      <td>302.0</td>\n",
              "      <td>140</td>\n",
              "      <td>3449</td>\n",
              "      <td>10.5</td>\n",
              "      <td>70</td>\n",
              "      <td>1</td>\n",
              "      <td>ford torino</td>\n",
              "    </tr>\n",
              "    <tr>\n",
              "      <th>...</th>\n",
              "      <td>...</td>\n",
              "      <td>...</td>\n",
              "      <td>...</td>\n",
              "      <td>...</td>\n",
              "      <td>...</td>\n",
              "      <td>...</td>\n",
              "      <td>...</td>\n",
              "      <td>...</td>\n",
              "      <td>...</td>\n",
              "    </tr>\n",
              "    <tr>\n",
              "      <th>393</th>\n",
              "      <td>27.0</td>\n",
              "      <td>4</td>\n",
              "      <td>140.0</td>\n",
              "      <td>86</td>\n",
              "      <td>2790</td>\n",
              "      <td>15.6</td>\n",
              "      <td>82</td>\n",
              "      <td>1</td>\n",
              "      <td>ford mustang gl</td>\n",
              "    </tr>\n",
              "    <tr>\n",
              "      <th>394</th>\n",
              "      <td>44.0</td>\n",
              "      <td>4</td>\n",
              "      <td>97.0</td>\n",
              "      <td>52</td>\n",
              "      <td>2130</td>\n",
              "      <td>24.6</td>\n",
              "      <td>82</td>\n",
              "      <td>2</td>\n",
              "      <td>vw pickup</td>\n",
              "    </tr>\n",
              "    <tr>\n",
              "      <th>395</th>\n",
              "      <td>32.0</td>\n",
              "      <td>4</td>\n",
              "      <td>135.0</td>\n",
              "      <td>84</td>\n",
              "      <td>2295</td>\n",
              "      <td>11.6</td>\n",
              "      <td>82</td>\n",
              "      <td>1</td>\n",
              "      <td>dodge rampage</td>\n",
              "    </tr>\n",
              "    <tr>\n",
              "      <th>396</th>\n",
              "      <td>28.0</td>\n",
              "      <td>4</td>\n",
              "      <td>120.0</td>\n",
              "      <td>79</td>\n",
              "      <td>2625</td>\n",
              "      <td>18.6</td>\n",
              "      <td>82</td>\n",
              "      <td>1</td>\n",
              "      <td>ford ranger</td>\n",
              "    </tr>\n",
              "    <tr>\n",
              "      <th>397</th>\n",
              "      <td>31.0</td>\n",
              "      <td>4</td>\n",
              "      <td>119.0</td>\n",
              "      <td>82</td>\n",
              "      <td>2720</td>\n",
              "      <td>19.4</td>\n",
              "      <td>82</td>\n",
              "      <td>1</td>\n",
              "      <td>chevy s-10</td>\n",
              "    </tr>\n",
              "  </tbody>\n",
              "</table>\n",
              "<p>398 rows × 9 columns</p>\n",
              "</div>\n",
              "      <button class=\"colab-df-convert\" onclick=\"convertToInteractive('df-d06abfe7-8259-4968-86bc-02bc4611aa47')\"\n",
              "              title=\"Convert this dataframe to an interactive table.\"\n",
              "              style=\"display:none;\">\n",
              "        \n",
              "  <svg xmlns=\"http://www.w3.org/2000/svg\" height=\"24px\"viewBox=\"0 0 24 24\"\n",
              "       width=\"24px\">\n",
              "    <path d=\"M0 0h24v24H0V0z\" fill=\"none\"/>\n",
              "    <path d=\"M18.56 5.44l.94 2.06.94-2.06 2.06-.94-2.06-.94-.94-2.06-.94 2.06-2.06.94zm-11 1L8.5 8.5l.94-2.06 2.06-.94-2.06-.94L8.5 2.5l-.94 2.06-2.06.94zm10 10l.94 2.06.94-2.06 2.06-.94-2.06-.94-.94-2.06-.94 2.06-2.06.94z\"/><path d=\"M17.41 7.96l-1.37-1.37c-.4-.4-.92-.59-1.43-.59-.52 0-1.04.2-1.43.59L10.3 9.45l-7.72 7.72c-.78.78-.78 2.05 0 2.83L4 21.41c.39.39.9.59 1.41.59.51 0 1.02-.2 1.41-.59l7.78-7.78 2.81-2.81c.8-.78.8-2.07 0-2.86zM5.41 20L4 18.59l7.72-7.72 1.47 1.35L5.41 20z\"/>\n",
              "  </svg>\n",
              "      </button>\n",
              "      \n",
              "  <style>\n",
              "    .colab-df-container {\n",
              "      display:flex;\n",
              "      flex-wrap:wrap;\n",
              "      gap: 12px;\n",
              "    }\n",
              "\n",
              "    .colab-df-convert {\n",
              "      background-color: #E8F0FE;\n",
              "      border: none;\n",
              "      border-radius: 50%;\n",
              "      cursor: pointer;\n",
              "      display: none;\n",
              "      fill: #1967D2;\n",
              "      height: 32px;\n",
              "      padding: 0 0 0 0;\n",
              "      width: 32px;\n",
              "    }\n",
              "\n",
              "    .colab-df-convert:hover {\n",
              "      background-color: #E2EBFA;\n",
              "      box-shadow: 0px 1px 2px rgba(60, 64, 67, 0.3), 0px 1px 3px 1px rgba(60, 64, 67, 0.15);\n",
              "      fill: #174EA6;\n",
              "    }\n",
              "\n",
              "    [theme=dark] .colab-df-convert {\n",
              "      background-color: #3B4455;\n",
              "      fill: #D2E3FC;\n",
              "    }\n",
              "\n",
              "    [theme=dark] .colab-df-convert:hover {\n",
              "      background-color: #434B5C;\n",
              "      box-shadow: 0px 1px 3px 1px rgba(0, 0, 0, 0.15);\n",
              "      filter: drop-shadow(0px 1px 2px rgba(0, 0, 0, 0.3));\n",
              "      fill: #FFFFFF;\n",
              "    }\n",
              "  </style>\n",
              "\n",
              "      <script>\n",
              "        const buttonEl =\n",
              "          document.querySelector('#df-d06abfe7-8259-4968-86bc-02bc4611aa47 button.colab-df-convert');\n",
              "        buttonEl.style.display =\n",
              "          google.colab.kernel.accessAllowed ? 'block' : 'none';\n",
              "\n",
              "        async function convertToInteractive(key) {\n",
              "          const element = document.querySelector('#df-d06abfe7-8259-4968-86bc-02bc4611aa47');\n",
              "          const dataTable =\n",
              "            await google.colab.kernel.invokeFunction('convertToInteractive',\n",
              "                                                     [key], {});\n",
              "          if (!dataTable) return;\n",
              "\n",
              "          const docLinkHtml = 'Like what you see? Visit the ' +\n",
              "            '<a target=\"_blank\" href=https://colab.research.google.com/notebooks/data_table.ipynb>data table notebook</a>'\n",
              "            + ' to learn more about interactive tables.';\n",
              "          element.innerHTML = '';\n",
              "          dataTable['output_type'] = 'display_data';\n",
              "          await google.colab.output.renderOutput(dataTable, element);\n",
              "          const docLink = document.createElement('div');\n",
              "          docLink.innerHTML = docLinkHtml;\n",
              "          element.appendChild(docLink);\n",
              "        }\n",
              "      </script>\n",
              "    </div>\n",
              "  </div>\n",
              "  "
            ]
          },
          "metadata": {},
          "execution_count": 3
        }
      ],
      "source": [
        "# Import dataset \"autos_mpg.csv\" (main dataset)\n",
        "\n",
        "!gdown --id 1JYTII7CJrNJlxzeLQkmEhyw0ud5GCIdi\n",
        "\n",
        "dataFrame = pd.read_csv(\"autos_mpg.csv\")\n",
        "dataFrame"
      ]
    },
    {
      "cell_type": "code",
      "source": [
        "# Import informasi dataset \"attribute_information.csv\" (information dataset)\n",
        "\n",
        "!gdown --id 1W8NZXusmtGi6za9hKJ2uewVThcDTbL1R\n",
        "\n",
        "dataInfo = pd.read_csv(\"attribute_information.csv\")\n",
        "\n",
        "print(\"\\nINFORMASI DATA SET\\n\")\n",
        "\n",
        "for i in range(len(dataInfo[\"ColumnName\"])):\n",
        "  if (dataInfo[\"ColumnName\"][i] == \"mpg\") or (dataInfo[\"ColumnName\"][i] == \"weight\") or (dataInfo[\"ColumnName\"][i] == \"origin\"):\n",
        "    print(dataInfo[\"ColumnName\"][i],\"\\t\\t: \", dataInfo[\"Description\"][i],\"\\n\")\n",
        "  else:\n",
        "    print(dataInfo[\"ColumnName\"][i],\"\\t: \", dataInfo[\"Description\"][i],\"\\n\")"
      ],
      "metadata": {
        "id": "3ll9RWX8wt2_",
        "colab": {
          "base_uri": "https://localhost:8080/"
        },
        "outputId": "9412b848-513b-4d42-a593-b74435cb3875"
      },
      "execution_count": null,
      "outputs": [
        {
          "output_type": "stream",
          "name": "stdout",
          "text": [
            "/usr/local/lib/python3.8/dist-packages/gdown/cli.py:127: FutureWarning: Option `--id` was deprecated in version 4.3.1 and will be removed in 5.0. You don't need to pass it anymore to use a file ID.\n",
            "  warnings.warn(\n",
            "Downloading...\n",
            "From: https://drive.google.com/uc?id=1W8NZXusmtGi6za9hKJ2uewVThcDTbL1R\n",
            "To: /content/attribute_information.csv\n",
            "100% 292/292 [00:00<00:00, 426kB/s]\n",
            "\n",
            "INFORMASI DATA SET\n",
            "\n",
            "mpg \t\t:  continuous (target attribute) \n",
            "\n",
            "cylinders \t:  multi-valued discrete \n",
            "\n",
            "displacement \t:  continuous \n",
            "\n",
            "horsepower \t:  continuous \n",
            "\n",
            "weight \t\t:  continuous \n",
            "\n",
            "acceleration \t:  continuous \n",
            "\n",
            "model year \t:  multi-valued discrete \n",
            "\n",
            "origin \t\t:  multi-valued discrete \n",
            "\n",
            "car name \t:  string (unique for each instance) \n",
            "\n"
          ]
        }
      ]
    },
    {
      "cell_type": "markdown",
      "source": [
        "#Info"
      ],
      "metadata": {
        "id": "Pq_XzbRt492I"
      }
    },
    {
      "cell_type": "code",
      "source": [
        "# Menampilkan tuple yang mewakili dimensi DataFrame,\n",
        "# terlihat terdapat .. buah baris dan .. buah kolom pada dataframe\n",
        "\n",
        "dataFrame.shape"
      ],
      "metadata": {
        "colab": {
          "base_uri": "https://localhost:8080/"
        },
        "id": "prA9CpIT4_wv",
        "outputId": "1cbb6545-8a19-4e13-fa3c-ad74b208ff21"
      },
      "execution_count": null,
      "outputs": [
        {
          "output_type": "execute_result",
          "data": {
            "text/plain": [
              "(398, 9)"
            ]
          },
          "metadata": {},
          "execution_count": 4
        }
      ]
    },
    {
      "cell_type": "code",
      "source": [
        "# Menampilkan ringkasan singkat dari dataframe\n",
        "dataFrame.info()"
      ],
      "metadata": {
        "colab": {
          "base_uri": "https://localhost:8080/"
        },
        "id": "yWIEJoSv5Jd4",
        "outputId": "4b582a98-ead0-4c2e-a36e-3a82b20ff4e3"
      },
      "execution_count": null,
      "outputs": [
        {
          "output_type": "stream",
          "name": "stdout",
          "text": [
            "<class 'pandas.core.frame.DataFrame'>\n",
            "RangeIndex: 398 entries, 0 to 397\n",
            "Data columns (total 9 columns):\n",
            " #   Column        Non-Null Count  Dtype  \n",
            "---  ------        --------------  -----  \n",
            " 0   mpg           398 non-null    float64\n",
            " 1   cylinders     398 non-null    int64  \n",
            " 2   displacement  398 non-null    float64\n",
            " 3   horsepower    398 non-null    object \n",
            " 4   weight        398 non-null    int64  \n",
            " 5   acceleration  398 non-null    float64\n",
            " 6   model_year    398 non-null    int64  \n",
            " 7   origin        398 non-null    int64  \n",
            " 8   car_name      398 non-null    object \n",
            "dtypes: float64(3), int64(4), object(2)\n",
            "memory usage: 28.1+ KB\n"
          ]
        }
      ]
    },
    {
      "cell_type": "code",
      "source": [
        "# Menampilkan statistik secara deskriptif\n",
        "dataFrame.describe()"
      ],
      "metadata": {
        "colab": {
          "base_uri": "https://localhost:8080/",
          "height": 301
        },
        "id": "b14q3rAF5Nvi",
        "outputId": "88c6c550-638c-4c7e-b3d9-a20f05767fa2"
      },
      "execution_count": null,
      "outputs": [
        {
          "output_type": "execute_result",
          "data": {
            "text/plain": [
              "              mpg   cylinders  displacement       weight  acceleration  \\\n",
              "count  398.000000  398.000000    398.000000   398.000000    398.000000   \n",
              "mean    23.514573    5.454774    193.425879  2970.424623     15.568090   \n",
              "std      7.815984    1.701004    104.269838   846.841774      2.757689   \n",
              "min      9.000000    3.000000     68.000000  1613.000000      8.000000   \n",
              "25%     17.500000    4.000000    104.250000  2223.750000     13.825000   \n",
              "50%     23.000000    4.000000    148.500000  2803.500000     15.500000   \n",
              "75%     29.000000    8.000000    262.000000  3608.000000     17.175000   \n",
              "max     46.600000    8.000000    455.000000  5140.000000     24.800000   \n",
              "\n",
              "       model_year      origin  \n",
              "count  398.000000  398.000000  \n",
              "mean    76.010050    1.572864  \n",
              "std      3.697627    0.802055  \n",
              "min     70.000000    1.000000  \n",
              "25%     73.000000    1.000000  \n",
              "50%     76.000000    1.000000  \n",
              "75%     79.000000    2.000000  \n",
              "max     82.000000    3.000000  "
            ],
            "text/html": [
              "\n",
              "  <div id=\"df-8a8a7bda-7181-430d-8403-a6ee4ac62314\">\n",
              "    <div class=\"colab-df-container\">\n",
              "      <div>\n",
              "<style scoped>\n",
              "    .dataframe tbody tr th:only-of-type {\n",
              "        vertical-align: middle;\n",
              "    }\n",
              "\n",
              "    .dataframe tbody tr th {\n",
              "        vertical-align: top;\n",
              "    }\n",
              "\n",
              "    .dataframe thead th {\n",
              "        text-align: right;\n",
              "    }\n",
              "</style>\n",
              "<table border=\"1\" class=\"dataframe\">\n",
              "  <thead>\n",
              "    <tr style=\"text-align: right;\">\n",
              "      <th></th>\n",
              "      <th>mpg</th>\n",
              "      <th>cylinders</th>\n",
              "      <th>displacement</th>\n",
              "      <th>weight</th>\n",
              "      <th>acceleration</th>\n",
              "      <th>model_year</th>\n",
              "      <th>origin</th>\n",
              "    </tr>\n",
              "  </thead>\n",
              "  <tbody>\n",
              "    <tr>\n",
              "      <th>count</th>\n",
              "      <td>398.000000</td>\n",
              "      <td>398.000000</td>\n",
              "      <td>398.000000</td>\n",
              "      <td>398.000000</td>\n",
              "      <td>398.000000</td>\n",
              "      <td>398.000000</td>\n",
              "      <td>398.000000</td>\n",
              "    </tr>\n",
              "    <tr>\n",
              "      <th>mean</th>\n",
              "      <td>23.514573</td>\n",
              "      <td>5.454774</td>\n",
              "      <td>193.425879</td>\n",
              "      <td>2970.424623</td>\n",
              "      <td>15.568090</td>\n",
              "      <td>76.010050</td>\n",
              "      <td>1.572864</td>\n",
              "    </tr>\n",
              "    <tr>\n",
              "      <th>std</th>\n",
              "      <td>7.815984</td>\n",
              "      <td>1.701004</td>\n",
              "      <td>104.269838</td>\n",
              "      <td>846.841774</td>\n",
              "      <td>2.757689</td>\n",
              "      <td>3.697627</td>\n",
              "      <td>0.802055</td>\n",
              "    </tr>\n",
              "    <tr>\n",
              "      <th>min</th>\n",
              "      <td>9.000000</td>\n",
              "      <td>3.000000</td>\n",
              "      <td>68.000000</td>\n",
              "      <td>1613.000000</td>\n",
              "      <td>8.000000</td>\n",
              "      <td>70.000000</td>\n",
              "      <td>1.000000</td>\n",
              "    </tr>\n",
              "    <tr>\n",
              "      <th>25%</th>\n",
              "      <td>17.500000</td>\n",
              "      <td>4.000000</td>\n",
              "      <td>104.250000</td>\n",
              "      <td>2223.750000</td>\n",
              "      <td>13.825000</td>\n",
              "      <td>73.000000</td>\n",
              "      <td>1.000000</td>\n",
              "    </tr>\n",
              "    <tr>\n",
              "      <th>50%</th>\n",
              "      <td>23.000000</td>\n",
              "      <td>4.000000</td>\n",
              "      <td>148.500000</td>\n",
              "      <td>2803.500000</td>\n",
              "      <td>15.500000</td>\n",
              "      <td>76.000000</td>\n",
              "      <td>1.000000</td>\n",
              "    </tr>\n",
              "    <tr>\n",
              "      <th>75%</th>\n",
              "      <td>29.000000</td>\n",
              "      <td>8.000000</td>\n",
              "      <td>262.000000</td>\n",
              "      <td>3608.000000</td>\n",
              "      <td>17.175000</td>\n",
              "      <td>79.000000</td>\n",
              "      <td>2.000000</td>\n",
              "    </tr>\n",
              "    <tr>\n",
              "      <th>max</th>\n",
              "      <td>46.600000</td>\n",
              "      <td>8.000000</td>\n",
              "      <td>455.000000</td>\n",
              "      <td>5140.000000</td>\n",
              "      <td>24.800000</td>\n",
              "      <td>82.000000</td>\n",
              "      <td>3.000000</td>\n",
              "    </tr>\n",
              "  </tbody>\n",
              "</table>\n",
              "</div>\n",
              "      <button class=\"colab-df-convert\" onclick=\"convertToInteractive('df-8a8a7bda-7181-430d-8403-a6ee4ac62314')\"\n",
              "              title=\"Convert this dataframe to an interactive table.\"\n",
              "              style=\"display:none;\">\n",
              "        \n",
              "  <svg xmlns=\"http://www.w3.org/2000/svg\" height=\"24px\"viewBox=\"0 0 24 24\"\n",
              "       width=\"24px\">\n",
              "    <path d=\"M0 0h24v24H0V0z\" fill=\"none\"/>\n",
              "    <path d=\"M18.56 5.44l.94 2.06.94-2.06 2.06-.94-2.06-.94-.94-2.06-.94 2.06-2.06.94zm-11 1L8.5 8.5l.94-2.06 2.06-.94-2.06-.94L8.5 2.5l-.94 2.06-2.06.94zm10 10l.94 2.06.94-2.06 2.06-.94-2.06-.94-.94-2.06-.94 2.06-2.06.94z\"/><path d=\"M17.41 7.96l-1.37-1.37c-.4-.4-.92-.59-1.43-.59-.52 0-1.04.2-1.43.59L10.3 9.45l-7.72 7.72c-.78.78-.78 2.05 0 2.83L4 21.41c.39.39.9.59 1.41.59.51 0 1.02-.2 1.41-.59l7.78-7.78 2.81-2.81c.8-.78.8-2.07 0-2.86zM5.41 20L4 18.59l7.72-7.72 1.47 1.35L5.41 20z\"/>\n",
              "  </svg>\n",
              "      </button>\n",
              "      \n",
              "  <style>\n",
              "    .colab-df-container {\n",
              "      display:flex;\n",
              "      flex-wrap:wrap;\n",
              "      gap: 12px;\n",
              "    }\n",
              "\n",
              "    .colab-df-convert {\n",
              "      background-color: #E8F0FE;\n",
              "      border: none;\n",
              "      border-radius: 50%;\n",
              "      cursor: pointer;\n",
              "      display: none;\n",
              "      fill: #1967D2;\n",
              "      height: 32px;\n",
              "      padding: 0 0 0 0;\n",
              "      width: 32px;\n",
              "    }\n",
              "\n",
              "    .colab-df-convert:hover {\n",
              "      background-color: #E2EBFA;\n",
              "      box-shadow: 0px 1px 2px rgba(60, 64, 67, 0.3), 0px 1px 3px 1px rgba(60, 64, 67, 0.15);\n",
              "      fill: #174EA6;\n",
              "    }\n",
              "\n",
              "    [theme=dark] .colab-df-convert {\n",
              "      background-color: #3B4455;\n",
              "      fill: #D2E3FC;\n",
              "    }\n",
              "\n",
              "    [theme=dark] .colab-df-convert:hover {\n",
              "      background-color: #434B5C;\n",
              "      box-shadow: 0px 1px 3px 1px rgba(0, 0, 0, 0.15);\n",
              "      filter: drop-shadow(0px 1px 2px rgba(0, 0, 0, 0.3));\n",
              "      fill: #FFFFFF;\n",
              "    }\n",
              "  </style>\n",
              "\n",
              "      <script>\n",
              "        const buttonEl =\n",
              "          document.querySelector('#df-8a8a7bda-7181-430d-8403-a6ee4ac62314 button.colab-df-convert');\n",
              "        buttonEl.style.display =\n",
              "          google.colab.kernel.accessAllowed ? 'block' : 'none';\n",
              "\n",
              "        async function convertToInteractive(key) {\n",
              "          const element = document.querySelector('#df-8a8a7bda-7181-430d-8403-a6ee4ac62314');\n",
              "          const dataTable =\n",
              "            await google.colab.kernel.invokeFunction('convertToInteractive',\n",
              "                                                     [key], {});\n",
              "          if (!dataTable) return;\n",
              "\n",
              "          const docLinkHtml = 'Like what you see? Visit the ' +\n",
              "            '<a target=\"_blank\" href=https://colab.research.google.com/notebooks/data_table.ipynb>data table notebook</a>'\n",
              "            + ' to learn more about interactive tables.';\n",
              "          element.innerHTML = '';\n",
              "          dataTable['output_type'] = 'display_data';\n",
              "          await google.colab.output.renderOutput(dataTable, element);\n",
              "          const docLink = document.createElement('div');\n",
              "          docLink.innerHTML = docLinkHtml;\n",
              "          element.appendChild(docLink);\n",
              "        }\n",
              "      </script>\n",
              "    </div>\n",
              "  </div>\n",
              "  "
            ]
          },
          "metadata": {},
          "execution_count": 6
        }
      ]
    },
    {
      "cell_type": "code",
      "source": [
        "# Check data yang duplikat\n",
        "\n",
        "dataFrame.duplicated()"
      ],
      "metadata": {
        "colab": {
          "base_uri": "https://localhost:8080/"
        },
        "id": "PUgzk8lK5RoH",
        "outputId": "e050719e-7ba4-455e-c62f-97551078df92"
      },
      "execution_count": null,
      "outputs": [
        {
          "output_type": "execute_result",
          "data": {
            "text/plain": [
              "0      False\n",
              "1      False\n",
              "2      False\n",
              "3      False\n",
              "4      False\n",
              "       ...  \n",
              "393    False\n",
              "394    False\n",
              "395    False\n",
              "396    False\n",
              "397    False\n",
              "Length: 398, dtype: bool"
            ]
          },
          "metadata": {},
          "execution_count": 7
        }
      ]
    },
    {
      "cell_type": "code",
      "source": [
        "# Check apakah ada data set yang \"missing value\" menggunakan visualisasi heatmap\n",
        "\n",
        "# Hitung jumlah baris yang memiliki string \"?\" pada setiap kolom\n",
        "missing_count = dataFrame.eq(\"?\").sum().to_frame()\n",
        "\n",
        "# Tampilkan heatmap\n",
        "sns.heatmap(missing_count, cbar = True, annot = True,cmap = \"YlGnBu\")\n",
        "plt.title(\"Heatmap missing value\\n\")\n",
        "plt"
      ],
      "metadata": {
        "id": "6enRH3d35-ul",
        "colab": {
          "base_uri": "https://localhost:8080/",
          "height": 313
        },
        "outputId": "c13f4805-25ff-44bf-d3dd-70de949616ef"
      },
      "execution_count": null,
      "outputs": [
        {
          "output_type": "execute_result",
          "data": {
            "text/plain": [
              "<module 'matplotlib.pyplot' from '/usr/local/lib/python3.8/dist-packages/matplotlib/pyplot.py'>"
            ]
          },
          "metadata": {},
          "execution_count": 8
        },
        {
          "output_type": "display_data",
          "data": {
            "text/plain": [
              "<Figure size 432x288 with 2 Axes>"
            ],
            "image/png": "[encoded data removed]"
          },
          "metadata": {
            "needs_background": "light"
          }
        }
      ]
    },
    {
      "cell_type": "code",
      "source": [
        "dataFrame.duplicated().value_counts()"
      ],
      "metadata": {
        "colab": {
          "base_uri": "https://localhost:8080/"
        },
        "id": "-kSG23gq5l3P",
        "outputId": "8c286bbe-7e4f-4412-e855-ab6bdc8936c1"
      },
      "execution_count": null,
      "outputs": [
        {
          "output_type": "execute_result",
          "data": {
            "text/plain": [
              "False    398\n",
              "dtype: int64"
            ]
          },
          "metadata": {},
          "execution_count": 9
        }
      ]
    },
    {
      "cell_type": "code",
      "source": [
        "drp = dataFrame.select_dtypes('object').columns.to_list()\n",
        "drp"
      ],
      "metadata": {
        "colab": {
          "base_uri": "https://localhost:8080/"
        },
        "id": "D4tcAWeQxsTV",
        "outputId": "5e22caa0-61d1-47f1-a309-541a86794df1"
      },
      "execution_count": null,
      "outputs": [
        {
          "output_type": "execute_result",
          "data": {
            "text/plain": [
              "['horsepower', 'car_name']"
            ]
          },
          "metadata": {},
          "execution_count": 10
        }
      ]
    },
    {
      "cell_type": "code",
      "source": [
        "plt.figure(figsize=(15,15))\n",
        "sns.heatmap(dataFrame.corr(),annot=True,square=True)"
      ],
      "metadata": {
        "colab": {
          "base_uri": "https://localhost:8080/",
          "height": 867
        },
        "id": "V7oWgreojV8V",
        "outputId": "664a98b9-bd75-41f6-c57d-4243324a1636"
      },
      "execution_count": null,
      "outputs": [
        {
          "output_type": "execute_result",
          "data": {
            "text/plain": [
              "<matplotlib.axes._subplots.AxesSubplot at 0x7f3fd80badf0>"
            ]
          },
          "metadata": {},
          "execution_count": 11
        },
        {
          "output_type": "display_data",
          "data": {
            "text/plain": [
              "<Figure size 1080x1080 with 2 Axes>"
            ],
            "image/png": "[encoded data removed]"
          },
          "metadata": {
            "needs_background": "light"
          }
        }
      ]
    },
    {
      "cell_type": "code",
      "source": [
        "numCol = list(dataFrame.columns)\n",
        "print(numCol)"
      ],
      "metadata": {
        "colab": {
          "base_uri": "https://localhost:8080/"
        },
        "id": "lZo9H7if6mut",
        "outputId": "e833aa1b-3fe3-494e-a038-2c2ecc9b6bae"
      },
      "execution_count": null,
      "outputs": [
        {
          "output_type": "stream",
          "name": "stdout",
          "text": [
            "['mpg', 'cylinders', 'displacement', 'horsepower', 'weight', 'acceleration', 'model_year', 'origin', 'car_name']\n"
          ]
        }
      ]
    },
    {
      "cell_type": "code",
      "source": [
        "#Delete Column String\n",
        "dataCopy = dataFrame.copy()\n",
        "dataCopy.drop(columns = 'car_name', inplace=True)"
      ],
      "metadata": {
        "id": "oWbKpDemdISs"
      },
      "execution_count": null,
      "outputs": []
    },
    {
      "cell_type": "code",
      "source": [
        "# Mencari nilai yang null / \"?\"\n",
        "count=0\n",
        "for i in range(0,398):\n",
        "    for j in range(0,8):\n",
        "        if (dataCopy.iloc[i,j]=='?'):\n",
        "            count =count+1\n",
        "print(count)\n",
        "dataCopy = dataCopy.replace('?', np.NaN)"
      ],
      "metadata": {
        "colab": {
          "base_uri": "https://localhost:8080/"
        },
        "id": "ZMkv9zntbl7T",
        "outputId": "ba01ef2a-b946-4a36-daca-236561f553b2"
      },
      "execution_count": null,
      "outputs": [
        {
          "output_type": "stream",
          "name": "stdout",
          "text": [
            "6\n"
          ]
        }
      ]
    },
    {
      "cell_type": "code",
      "source": [
        "# Melakukan inputer pada kolom kosong\n",
        "inputer = KNNImputer()\n",
        "dataCopy = pd.DataFrame(inputer.fit_transform(dataCopy), columns = dataCopy.columns)"
      ],
      "metadata": {
        "id": "z9-iEK94cbQL"
      },
      "execution_count": null,
      "outputs": []
    },
    {
      "cell_type": "code",
      "source": [
        "# Menampilkan box plot beserta informasi outliersnya\n",
        "# Mempersiapkan ukuran plot\n",
        "n_cols = 3\n",
        "n_rows = (len(dataCopy.columns) + n_cols - 1) // n_cols\n",
        "\n",
        "# Buat plot\n",
        "fig, ax = plt.subplots(n_rows, n_cols, figsize = (15, 10))\n",
        "\n",
        "# Iterasi untuk setiap kolom pada data\n",
        "for i, col in enumerate(dataCopy.columns):\n",
        "    g = sns.boxplot(data = dataCopy, y = col, ax = ax[i // 3, i % 3], palette = \"pastel\")\n",
        "    g.set_title(col, weight = \"bold\", fontsize = 18, fontname = \"monospace\")"
      ],
      "metadata": {
        "id": "BAGnwrXd6Mg_",
        "outputId": "85a028c4-e31f-438a-ca7d-01e298523f25",
        "colab": {
          "base_uri": "https://localhost:8080/",
          "height": 612
        }
      },
      "execution_count": null,
      "outputs": [
        {
          "output_type": "display_data",
          "data": {
            "text/plain": [
              "<Figure size 1080x720 with 9 Axes>"
            ],
            "image/png": "[encoded data removed]"
          },
          "metadata": {
            "needs_background": "light"
          }
        }
      ]
    },
    {
      "cell_type": "code",
      "source": [
        "# Melakukan penghapusan data pada outlier\n",
        "cont=dataCopy.dtypes[(dataCopy.dtypes!='object')].index\n",
        "def remove_outlier(col):\n",
        "  sorted(col)\n",
        "  Q1,Q3=np.percentile(col,[25,75])\n",
        "  IQR=Q3-Q1\n",
        "  lower_range= Q1-(1.5 * IQR)\n",
        "  upper_range= Q3+(1.5 * IQR)\n",
        "  return lower_range, upper_range\n",
        "\n",
        "for column in dataCopy[cont].columns:\n",
        "  lr,ur=remove_outlier(dataCopy[column])\n",
        "  dataCopy[column]=np.where(dataCopy[column]>ur,ur,dataCopy[column])\n",
        "  dataCopy[column]=np.where(dataCopy[column]<lr,lr,dataCopy[column])"
      ],
      "metadata": {
        "id": "lhWjWS3u86SB"
      },
      "execution_count": null,
      "outputs": []
    },
    {
      "cell_type": "code",
      "source": [
        "# Menampilkan box plot beserta informasi outliersnya\n",
        "# Mempersiapkan ukuran plot\n",
        "n_cols = 3\n",
        "n_rows = (len(dataCopy.columns) + n_cols - 1) // n_cols\n",
        "\n",
        "# Buat plot\n",
        "fig, ax = plt.subplots(n_rows, n_cols, figsize = (15, 10))\n",
        "\n",
        "# Iterasi untuk setiap kolom pada data\n",
        "for i, col in enumerate(dataCopy.columns):\n",
        "    g = sns.boxplot(data = dataCopy, y = col, ax = ax[i // 3, i % 3], palette = \"pastel\")\n",
        "    g.set_title(col, weight = \"bold\", fontsize = 18, fontname = \"monospace\")"
      ],
      "metadata": {
        "colab": {
          "base_uri": "https://localhost:8080/",
          "height": 612
        },
        "id": "_tvBY1Of9Itq",
        "outputId": "0a7a0082-cdc2-42f1-a26c-cf72106e56cc"
      },
      "execution_count": null,
      "outputs": [
        {
          "output_type": "display_data",
          "data": {
            "text/plain": [
              "<Figure size 1080x720 with 9 Axes>"
            ],
            "image/png": "[encoded data removed]"
          },
          "metadata": {
            "needs_background": "light"
          }
        }
      ]
    },
    {
      "cell_type": "code",
      "source": [
        "# Melakukan scaller pada data\n",
        "scaler = MinMaxScaler()\n",
        "dataMinMax = dataCopy\n",
        "dataMinMax.iloc[:,:-1]=scaler.fit_transform(dataMinMax.iloc[:,:-1].to_numpy())\n",
        "dataMinMax"
      ],
      "metadata": {
        "colab": {
          "base_uri": "https://localhost:8080/",
          "height": 424
        },
        "id": "m4ExnLNLa6ZK",
        "outputId": "1d5f8f8b-28cb-4b6f-f982-e47d975904da"
      },
      "execution_count": null,
      "outputs": [
        {
          "output_type": "execute_result",
          "data": {
            "text/plain": [
              "          mpg  cylinders  displacement  horsepower    weight  acceleration  \\\n",
              "0    0.239362        1.0      0.617571    0.456522  0.536150      0.238095   \n",
              "1    0.159574        1.0      0.728682    0.646739  0.589736      0.208333   \n",
              "2    0.239362        1.0      0.645995    0.565217  0.516870      0.178571   \n",
              "3    0.186170        1.0      0.609819    0.565217  0.516019      0.238095   \n",
              "4    0.212766        1.0      0.604651    0.510870  0.520556      0.148810   \n",
              "..        ...        ...           ...         ...       ...           ...   \n",
              "393  0.478723        0.2      0.186047    0.217391  0.333711      0.452381   \n",
              "394  0.930851        0.2      0.074935    0.032609  0.146583      0.988095   \n",
              "395  0.611702        0.2      0.173127    0.206522  0.193365      0.214286   \n",
              "396  0.505319        0.2      0.134367    0.179348  0.286929      0.630952   \n",
              "397  0.585106        0.2      0.131783    0.195652  0.313864      0.678571   \n",
              "\n",
              "     model_year  origin  \n",
              "0           0.0     1.0  \n",
              "1           0.0     1.0  \n",
              "2           0.0     1.0  \n",
              "3           0.0     1.0  \n",
              "4           0.0     1.0  \n",
              "..          ...     ...  \n",
              "393         1.0     1.0  \n",
              "394         1.0     2.0  \n",
              "395         1.0     1.0  \n",
              "396         1.0     1.0  \n",
              "397         1.0     1.0  \n",
              "\n",
              "[398 rows x 8 columns]"
            ],
            "text/html": [
              "\n",
              "  <div id=\"df-4484f9ca-37af-4639-a172-7ebaaeaca700\">\n",
              "    <div class=\"colab-df-container\">\n",
              "      <div>\n",
              "<style scoped>\n",
              "    .dataframe tbody tr th:only-of-type {\n",
              "        vertical-align: middle;\n",
              "    }\n",
              "\n",
              "    .dataframe tbody tr th {\n",
              "        vertical-align: top;\n",
              "    }\n",
              "\n",
              "    .dataframe thead th {\n",
              "        text-align: right;\n",
              "    }\n",
              "</style>\n",
              "<table border=\"1\" class=\"dataframe\">\n",
              "  <thead>\n",
              "    <tr style=\"text-align: right;\">\n",
              "      <th></th>\n",
              "      <th>mpg</th>\n",
              "      <th>cylinders</th>\n",
              "      <th>displacement</th>\n",
              "      <th>horsepower</th>\n",
              "      <th>weight</th>\n",
              "      <th>acceleration</th>\n",
              "      <th>model_year</th>\n",
              "      <th>origin</th>\n",
              "    </tr>\n",
              "  </thead>\n",
              "  <tbody>\n",
              "    <tr>\n",
              "      <th>0</th>\n",
              "      <td>0.239362</td>\n",
              "      <td>1.0</td>\n",
              "      <td>0.617571</td>\n",
              "      <td>0.456522</td>\n",
              "      <td>0.536150</td>\n",
              "      <td>0.238095</td>\n",
              "      <td>0.0</td>\n",
              "      <td>1.0</td>\n",
              "    </tr>\n",
              "    <tr>\n",
              "      <th>1</th>\n",
              "      <td>0.159574</td>\n",
              "      <td>1.0</td>\n",
              "      <td>0.728682</td>\n",
              "      <td>0.646739</td>\n",
              "      <td>0.589736</td>\n",
              "      <td>0.208333</td>\n",
              "      <td>0.0</td>\n",
              "      <td>1.0</td>\n",
              "    </tr>\n",
              "    <tr>\n",
              "      <th>2</th>\n",
              "      <td>0.239362</td>\n",
              "      <td>1.0</td>\n",
              "      <td>0.645995</td>\n",
              "      <td>0.565217</td>\n",
              "      <td>0.516870</td>\n",
              "      <td>0.178571</td>\n",
              "      <td>0.0</td>\n",
              "      <td>1.0</td>\n",
              "    </tr>\n",
              "    <tr>\n",
              "      <th>3</th>\n",
              "      <td>0.186170</td>\n",
              "      <td>1.0</td>\n",
              "      <td>0.609819</td>\n",
              "      <td>0.565217</td>\n",
              "      <td>0.516019</td>\n",
              "      <td>0.238095</td>\n",
              "      <td>0.0</td>\n",
              "      <td>1.0</td>\n",
              "    </tr>\n",
              "    <tr>\n",
              "      <th>4</th>\n",
              "      <td>0.212766</td>\n",
              "      <td>1.0</td>\n",
              "      <td>0.604651</td>\n",
              "      <td>0.510870</td>\n",
              "      <td>0.520556</td>\n",
              "      <td>0.148810</td>\n",
              "      <td>0.0</td>\n",
              "      <td>1.0</td>\n",
              "    </tr>\n",
              "    <tr>\n",
              "      <th>...</th>\n",
              "      <td>...</td>\n",
              "      <td>...</td>\n",
              "      <td>...</td>\n",
              "      <td>...</td>\n",
              "      <td>...</td>\n",
              "      <td>...</td>\n",
              "      <td>...</td>\n",
              "      <td>...</td>\n",
              "    </tr>\n",
              "    <tr>\n",
              "      <th>393</th>\n",
              "      <td>0.478723</td>\n",
              "      <td>0.2</td>\n",
              "      <td>0.186047</td>\n",
              "      <td>0.217391</td>\n",
              "      <td>0.333711</td>\n",
              "      <td>0.452381</td>\n",
              "      <td>1.0</td>\n",
              "      <td>1.0</td>\n",
              "    </tr>\n",
              "    <tr>\n",
              "      <th>394</th>\n",
              "      <td>0.930851</td>\n",
              "      <td>0.2</td>\n",
              "      <td>0.074935</td>\n",
              "      <td>0.032609</td>\n",
              "      <td>0.146583</td>\n",
              "      <td>0.988095</td>\n",
              "      <td>1.0</td>\n",
              "      <td>2.0</td>\n",
              "    </tr>\n",
              "    <tr>\n",
              "      <th>395</th>\n",
              "      <td>0.611702</td>\n",
              "      <td>0.2</td>\n",
              "      <td>0.173127</td>\n",
              "      <td>0.206522</td>\n",
              "      <td>0.193365</td>\n",
              "      <td>0.214286</td>\n",
              "      <td>1.0</td>\n",
              "      <td>1.0</td>\n",
              "    </tr>\n",
              "    <tr>\n",
              "      <th>396</th>\n",
              "      <td>0.505319</td>\n",
              "      <td>0.2</td>\n",
              "      <td>0.134367</td>\n",
              "      <td>0.179348</td>\n",
              "      <td>0.286929</td>\n",
              "      <td>0.630952</td>\n",
              "      <td>1.0</td>\n",
              "      <td>1.0</td>\n",
              "    </tr>\n",
              "    <tr>\n",
              "      <th>397</th>\n",
              "      <td>0.585106</td>\n",
              "      <td>0.2</td>\n",
              "      <td>0.131783</td>\n",
              "      <td>0.195652</td>\n",
              "      <td>0.313864</td>\n",
              "      <td>0.678571</td>\n",
              "      <td>1.0</td>\n",
              "      <td>1.0</td>\n",
              "    </tr>\n",
              "  </tbody>\n",
              "</table>\n",
              "<p>398 rows × 8 columns</p>\n",
              "</div>\n",
              "      <button class=\"colab-df-convert\" onclick=\"convertToInteractive('df-4484f9ca-37af-4639-a172-7ebaaeaca700')\"\n",
              "              title=\"Convert this dataframe to an interactive table.\"\n",
              "              style=\"display:none;\">\n",
              "        \n",
              "  <svg xmlns=\"http://www.w3.org/2000/svg\" height=\"24px\"viewBox=\"0 0 24 24\"\n",
              "       width=\"24px\">\n",
              "    <path d=\"M0 0h24v24H0V0z\" fill=\"none\"/>\n",
              "    <path d=\"M18.56 5.44l.94 2.06.94-2.06 2.06-.94-2.06-.94-.94-2.06-.94 2.06-2.06.94zm-11 1L8.5 8.5l.94-2.06 2.06-.94-2.06-.94L8.5 2.5l-.94 2.06-2.06.94zm10 10l.94 2.06.94-2.06 2.06-.94-2.06-.94-.94-2.06-.94 2.06-2.06.94z\"/><path d=\"M17.41 7.96l-1.37-1.37c-.4-.4-.92-.59-1.43-.59-.52 0-1.04.2-1.43.59L10.3 9.45l-7.72 7.72c-.78.78-.78 2.05 0 2.83L4 21.41c.39.39.9.59 1.41.59.51 0 1.02-.2 1.41-.59l7.78-7.78 2.81-2.81c.8-.78.8-2.07 0-2.86zM5.41 20L4 18.59l7.72-7.72 1.47 1.35L5.41 20z\"/>\n",
              "  </svg>\n",
              "      </button>\n",
              "      \n",
              "  <style>\n",
              "    .colab-df-container {\n",
              "      display:flex;\n",
              "      flex-wrap:wrap;\n",
              "      gap: 12px;\n",
              "    }\n",
              "\n",
              "    .colab-df-convert {\n",
              "      background-color: #E8F0FE;\n",
              "      border: none;\n",
              "      border-radius: 50%;\n",
              "      cursor: pointer;\n",
              "      display: none;\n",
              "      fill: #1967D2;\n",
              "      height: 32px;\n",
              "      padding: 0 0 0 0;\n",
              "      width: 32px;\n",
              "    }\n",
              "\n",
              "    .colab-df-convert:hover {\n",
              "      background-color: #E2EBFA;\n",
              "      box-shadow: 0px 1px 2px rgba(60, 64, 67, 0.3), 0px 1px 3px 1px rgba(60, 64, 67, 0.15);\n",
              "      fill: #174EA6;\n",
              "    }\n",
              "\n",
              "    [theme=dark] .colab-df-convert {\n",
              "      background-color: #3B4455;\n",
              "      fill: #D2E3FC;\n",
              "    }\n",
              "\n",
              "    [theme=dark] .colab-df-convert:hover {\n",
              "      background-color: #434B5C;\n",
              "      box-shadow: 0px 1px 3px 1px rgba(0, 0, 0, 0.15);\n",
              "      filter: drop-shadow(0px 1px 2px rgba(0, 0, 0, 0.3));\n",
              "      fill: #FFFFFF;\n",
              "    }\n",
              "  </style>\n",
              "\n",
              "      <script>\n",
              "        const buttonEl =\n",
              "          document.querySelector('#df-4484f9ca-37af-4639-a172-7ebaaeaca700 button.colab-df-convert');\n",
              "        buttonEl.style.display =\n",
              "          google.colab.kernel.accessAllowed ? 'block' : 'none';\n",
              "\n",
              "        async function convertToInteractive(key) {\n",
              "          const element = document.querySelector('#df-4484f9ca-37af-4639-a172-7ebaaeaca700');\n",
              "          const dataTable =\n",
              "            await google.colab.kernel.invokeFunction('convertToInteractive',\n",
              "                                                     [key], {});\n",
              "          if (!dataTable) return;\n",
              "\n",
              "          const docLinkHtml = 'Like what you see? Visit the ' +\n",
              "            '<a target=\"_blank\" href=https://colab.research.google.com/notebooks/data_table.ipynb>data table notebook</a>'\n",
              "            + ' to learn more about interactive tables.';\n",
              "          element.innerHTML = '';\n",
              "          dataTable['output_type'] = 'display_data';\n",
              "          await google.colab.output.renderOutput(dataTable, element);\n",
              "          const docLink = document.createElement('div');\n",
              "          docLink.innerHTML = docLinkHtml;\n",
              "          element.appendChild(docLink);\n",
              "        }\n",
              "      </script>\n",
              "    </div>\n",
              "  </div>\n",
              "  "
            ]
          },
          "metadata": {},
          "execution_count": 54
        }
      ]
    },
    {
      "cell_type": "code",
      "source": [
        "#Perintah untuk pembagian data antara data training dan data testing\n",
        "x = dataMinMax.iloc[:, 0:-1]\n",
        "y = dataMinMax.iloc[:, -1]\n",
        "\n",
        "#Pada proses pembagiaanya, data tes digunakan sebanyak 20% dan data training sebanyak 80% dari keseluruhan data\n",
        "x_train, x_test, y_train, y_test = train_test_split(x, y, test_size=0.2, random_state=42)"
      ],
      "metadata": {
        "id": "WPvlxOes8ghy"
      },
      "execution_count": null,
      "outputs": []
    },
    {
      "cell_type": "markdown",
      "source": [
        "#Processing data"
      ],
      "metadata": {
        "id": "eLDX7rAgdHYp"
      }
    },
    {
      "cell_type": "code",
      "source": [
        "# Model boosting dengan library adaboost\n",
        "\n",
        "# Menginisialisasi sebuah model AdaBoostRegressor dengan menentukan jumlah estimator (atau base model) sebanyak 100.\n",
        "# Nilai random_state diatur ke 0, yang berarti setiap kali Anda menjalankan kode ini, Anda akan mendapatkan hasil yang sama.\n",
        "clf = AdaBoostRegressor(DecisionTreeClassifier(max_depth = 2))\n",
        "\n",
        "# Melatih model\n",
        "clf.fit(x_train, y_train)\n",
        "\n",
        "# Menghitung akurasi model terhadap data latih\n",
        "print(\"Score: \", clf.score(x_train, y_train))\n",
        "\n",
        "# Mencetak hasil dari prediksi\n",
        "y_pred = clf.predict(x_test)"
      ],
      "metadata": {
        "id": "okBQXErXeZ-F",
        "colab": {
          "base_uri": "https://localhost:8080/"
        },
        "outputId": "3f90f863-2e99-4892-a402-cc6147959099"
      },
      "execution_count": null,
      "outputs": [
        {
          "output_type": "stream",
          "name": "stdout",
          "text": [
            "Score:  0.8467839074921706\n"
          ]
        }
      ]
    },
    {
      "cell_type": "code",
      "source": [
        "print('MAE : ', metrics.mean_absolute_error(y_test, y_pred))\n",
        "print('MSE : ', metrics.mean_squared_error(y_test, y_pred))\n",
        "print('RMSE: ', np.sqrt(metrics.mean_squared_error(y_test, y_pred)) )"
      ],
      "metadata": {
        "id": "ogeCtsBZjp__",
        "colab": {
          "base_uri": "https://localhost:8080/"
        },
        "outputId": "badcefac-848b-4e81-9239-8bb683b45359"
      },
      "execution_count": null,
      "outputs": [
        {
          "output_type": "stream",
          "name": "stdout",
          "text": [
            "MAE:  0.4155029266784719\n",
            "MSE:  0.28536716390082056\n",
            "RMSE:  0.5341976824180544\n"
          ]
        }
      ]
    },
    {
      "cell_type": "markdown",
      "source": [
        "#Data experiment"
      ],
      "metadata": {
        "id": "yrdklcOXd7WU"
      }
    },
    {
      "cell_type": "code",
      "source": [
        "# Eksperiment 1\n",
        "# Melakukan eksperiment dengan melakukan pemodelan GradientBoostingRegressor dan scaler yaitu StandardScaler\n",
        "#Copy dataFrame\n",
        "dataSet2 = dataFrame.copy()\n",
        "dataSet2.drop(columns = 'car_name', inplace=True)\n",
        "dataSet2 = dataSet2.replace('?', np.NaN)\n",
        "\n",
        "# Melakukan inputer pada kolom kosong\n",
        "inputer = KNNImputer()\n",
        "dataSet2 = pd.DataFrame(inputer.fit_transform(dataSet2), columns = dataSet2.columns)\n",
        "\n",
        "# Melakukan scaller pada data\n",
        "scaler2 = StandardScaler()\n",
        "dataStandardScaler = dataSet2.copy()\n",
        "dataStandardScaler.iloc[:,:-1]=scaler2.fit_transform(dataStandardScaler.iloc[:,:-1].to_numpy())\n",
        "\n",
        "#Perintah untuk pembagian data antara data training dan data testing\n",
        "x2 = dataStandardScaler.iloc[:, 0:-1]\n",
        "y2 = dataStandardScaler.iloc[:, -1]\n",
        "\n",
        "#Pada proses pembagiaanya, data tes digunakan sebanyak 30% dan data training sebanyak 70% dari keseluruhan data\n",
        "x_train2, x_test2, y_train2, y_test2 = train_test_split(x2, y2, test_size=0.3, random_state=42)\n",
        "\n",
        "# Model boosting dengan library \"GradientBoostingRegressor\"\n",
        "\n",
        "model_2 = GradientBoostingRegressor(n_estimators=50)\n",
        "model_2.fit(x_train2, y_train2)\n",
        "print(\"Hasil Score: \",model_2.score(x_train2, y_train2))\n",
        "y_pred2 = model_2.predict(x_test2)\n",
        "print('MAE : ', metrics.mean_absolute_error(y_test2, y_pred2))\n",
        "print('MSE : ', metrics.mean_squared_error(y_test2, y_pred2))\n",
        "print('RMSE: ', np.sqrt(metrics.mean_squared_error(y_test2, y_pred2)) )"
      ],
      "metadata": {
        "colab": {
          "base_uri": "https://localhost:8080/"
        },
        "id": "FeXGLu5UBNJD",
        "outputId": "4f235054-351c-4e01-b005-4448be74d414"
      },
      "execution_count": null,
      "outputs": [
        {
          "output_type": "stream",
          "name": "stdout",
          "text": [
            "Hasil Score:  0.895520490885989\n",
            "MAE :  0.26859064752133543\n",
            "MSE :  0.16921307743820452\n",
            "RMSE:  0.41135517188702575\n"
          ]
        }
      ]
    },
    {
      "cell_type": "code",
      "source": [
        "# Eksperiment 2\n",
        "# Melakukan eksperiment dengan melakukan pemodelan AdaBoostRegressor dan scaler yaitu RobustScaler\n",
        "#Copy dataFrame\n",
        "dataSet3 = dataFrame.copy()\n",
        "dataSet3.drop(columns = 'car_name', inplace=True)\n",
        "dataSet3 = dataSet3.replace('?', np.NaN)\n",
        "\n",
        "# Melakukan inputer pada kolom kosong\n",
        "inputer = KNNImputer()\n",
        "dataSet3 = pd.DataFrame(inputer.fit_transform(dataSet3), columns = dataSet3.columns)\n",
        "\n",
        "# Melakukan scaller pada data\n",
        "scaler3 = RobustScaler()\n",
        "dataStandardScaler = dataSet3.copy()\n",
        "dataStandardScaler.iloc[:,:-1]=scaler3.fit_transform(dataStandardScaler.iloc[:,:-1].to_numpy())\n",
        "\n",
        "#Perintah untuk pembagian data antara data training dan data testing\n",
        "x3 = dataStandardScaler.iloc[:, 0:-1]\n",
        "y3 = dataStandardScaler.iloc[:, -1]\n",
        "\n",
        "#Pada proses pembagiaanya, data tes digunakan sebanyak 30% dan data training sebanyak 70% dari keseluruhan data\n",
        "x_train3, x_test3, y_train3, y_test3 = train_test_split(x3, y3, test_size=0.3, random_state=42)\n",
        "\n",
        "# Model boosting dengan library \"AdaBoostRegressor\"\n",
        "\n",
        "model_3 = AdaBoostRegressor(DecisionTreeClassifier(max_depth = 2))\n",
        "model_3.fit(x_train3, y_train3)\n",
        "model_3.score(x_train3, y_train3)\n",
        "\n",
        "print(\"Hasil Score: \",model_3.score(x_train3, y_train3))\n",
        "y_pred3 = model_3.predict(x_test3)\n",
        "print('MAE : ', metrics.mean_absolute_error(y_test3, y_pred3))\n",
        "print('MSE : ', metrics.mean_squared_error(y_test3, y_pred3))\n",
        "print('RMSE: ', np.sqrt(metrics.mean_squared_error(y_test3, y_pred3)) )"
      ],
      "metadata": {
        "colab": {
          "base_uri": "https://localhost:8080/"
        },
        "id": "08T_F1GjFaF1",
        "outputId": "79e0c166-cfbc-4850-fa4b-9c303bb0ea46"
      },
      "execution_count": null,
      "outputs": [
        {
          "output_type": "stream",
          "name": "stdout",
          "text": [
            "Hasil Score:  0.8485991487988381\n",
            "MAE :  0.225\n",
            "MSE :  0.25833333333333336\n",
            "RMSE:  0.5082650227325636\n"
          ]
        }
      ]
    },
    {
      "cell_type": "code",
      "source": [
        "# Eksperiment 3\n",
        "# Classification\n",
        "\n",
        "classificationModel_1 = AdaBoostClassifier(n_estimators=50)\n",
        "classificationModel_1.fit(x_train, y_train)\n",
        "classificationModel_1.score(x_train, y_train)"
      ],
      "metadata": {
        "id": "TMbqtEJSgAJ2",
        "colab": {
          "base_uri": "https://localhost:8080/"
        },
        "outputId": "3a8b2fe9-d34e-47f7-9fbd-db181dc0894b"
      },
      "execution_count": null,
      "outputs": [
        {
          "output_type": "execute_result",
          "data": {
            "text/plain": [
              "0.8836477987421384"
            ]
          },
          "metadata": {},
          "execution_count": 22
        }
      ]
    }
  ]
}